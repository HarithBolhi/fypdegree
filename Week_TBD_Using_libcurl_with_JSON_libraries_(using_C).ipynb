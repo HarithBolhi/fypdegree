{
  "nbformat": 4,
  "nbformat_minor": 0,
  "metadata": {
    "colab": {
      "provenance": [],
      "collapsed_sections": [
        "Kz8Ur10-Rgxc",
        "MFD1nkQpLEmr"
      ],
      "include_colab_link": true
    },
    "kernelspec": {
      "name": "python3",
      "display_name": "Python 3"
    },
    "language_info": {
      "name": "python"
    }
  },
  "cells": [
    {
      "cell_type": "markdown",
      "metadata": {
        "id": "view-in-github",
        "colab_type": "text"
      },
      "source": [
        "<a href=\"https://colab.research.google.com/github/HarithBolhi/fypdegree/blob/main/Week_TBD_Using_libcurl_with_JSON_libraries_(using_C).ipynb\" target=\"_parent\"><img src=\"https://colab.research.google.com/assets/colab-badge.svg\" alt=\"Open In Colab\"/></a>"
      ]
    },
    {
      "cell_type": "markdown",
      "source": [
        "# Week TBD\n",
        "Ir. Dr. Syahrul Afzal bin Che Abdullah\n",
        "## Using libcurl and JSON libraries (using C)"
      ],
      "metadata": {
        "id": "FZQuLFz9gFYD"
      }
    },
    {
      "cell_type": "markdown",
      "source": [
        "### Apparatus\n",
        "1. Welcome To Colaboratory - Colaboratory <br>\n",
        "https://colab.research.google.com/\n",
        "2. Online C Compiler, Visual Debugger, and AI Tutor - Learn C programming by visualizing code <br>\n",
        "https://pythontutor.com/c.html#mode=edit\n",
        "3. GDB online Debugger | Compiler - Code, Compile, Run, Debug online C, C++ <br>\n",
        "https://www.onlinegdb.com/ <br>\n",
        "https://www.onlinegdb.com/online_c_compiler\n"
      ],
      "metadata": {
        "id": "YLHoLioJev9_"
      }
    },
    {
      "cell_type": "markdown",
      "source": [
        "### Configuration Management"
      ],
      "metadata": {
        "id": "Kz8Ur10-Rgxc"
      }
    },
    {
      "cell_type": "code",
      "source": [
        "!uname -a"
      ],
      "metadata": {
        "colab": {
          "base_uri": "https://localhost:8080/"
        },
        "id": "2g148ZJZ6Lbp",
        "outputId": "bf04367c-9ad0-4014-f08a-b25123c5841d"
      },
      "execution_count": null,
      "outputs": [
        {
          "output_type": "stream",
          "name": "stdout",
          "text": [
            "Linux 111bcecbb52e 6.1.58+ #1 SMP PREEMPT_DYNAMIC Sat Nov 18 15:31:17 UTC 2023 x86_64 x86_64 x86_64 GNU/Linux\n"
          ]
        }
      ]
    },
    {
      "cell_type": "markdown",
      "source": [
        "### libcurl library\n",
        "https://curl.se/libcurl/ <br>\n",
        "https://curl.se/libcurl/c/example.html\n",
        "\n",
        "\n"
      ],
      "metadata": {
        "id": "MFD1nkQpLEmr"
      }
    },
    {
      "cell_type": "code",
      "source": [
        "#https://curl.se/libcurl/using/\n",
        "#curl-config is our friend\n",
        "!curl-config --version"
      ],
      "metadata": {
        "colab": {
          "base_uri": "https://localhost:8080/"
        },
        "id": "WjgqNeid6N2y",
        "outputId": "8e8eb456-aa49-4677-ea57-28ac04978425"
      },
      "execution_count": null,
      "outputs": [
        {
          "output_type": "stream",
          "name": "stdout",
          "text": [
            "libcurl 7.81.0\n"
          ]
        }
      ]
    },
    {
      "cell_type": "code",
      "source": [
        "#https://curl.se/libcurl/using/\n",
        "#curl-config is our friend\n",
        "!curl-config --libs"
      ],
      "metadata": {
        "colab": {
          "base_uri": "https://localhost:8080/"
        },
        "id": "Kb-OzU6S6pep",
        "outputId": "3ca7c5e2-09fa-45fa-b2ba-32e44c57eff5"
      },
      "execution_count": null,
      "outputs": [
        {
          "output_type": "stream",
          "name": "stdout",
          "text": [
            "-lcurl\n"
          ]
        }
      ]
    },
    {
      "cell_type": "code",
      "source": [
        "!wget https://github.com/curl/curl/raw/master/docs/examples/simplepost.c"
      ],
      "metadata": {
        "colab": {
          "base_uri": "https://localhost:8080/"
        },
        "id": "rSJRtWBO49Xo",
        "outputId": "84c431ea-4d55-40fb-e9ec-3d3b409cb25d"
      },
      "execution_count": null,
      "outputs": [
        {
          "output_type": "stream",
          "name": "stdout",
          "text": [
            "--2024-04-17 23:24:59--  https://github.com/curl/curl/raw/master/docs/examples/simplepost.c\n",
            "Resolving github.com (github.com)... 140.82.113.3\n",
            "Connecting to github.com (github.com)|140.82.113.3|:443... connected.\n",
            "HTTP request sent, awaiting response... 302 Found\n",
            "Location: https://raw.githubusercontent.com/curl/curl/master/docs/examples/simplepost.c [following]\n",
            "--2024-04-17 23:24:59--  https://raw.githubusercontent.com/curl/curl/master/docs/examples/simplepost.c\n",
            "Resolving raw.githubusercontent.com (raw.githubusercontent.com)... 185.199.108.133, 185.199.109.133, 185.199.110.133, ...\n",
            "Connecting to raw.githubusercontent.com (raw.githubusercontent.com)|185.199.108.133|:443... connected.\n",
            "HTTP request sent, awaiting response... 200 OK\n",
            "Length: 1889 (1.8K) [text/plain]\n",
            "Saving to: ‘simplepost.c’\n",
            "\n",
            "simplepost.c        100%[===================>]   1.84K  --.-KB/s    in 0s      \n",
            "\n",
            "2024-04-17 23:24:59 (25.1 MB/s) - ‘simplepost.c’ saved [1889/1889]\n",
            "\n"
          ]
        }
      ]
    },
    {
      "cell_type": "code",
      "source": [
        "!cat simplepost.c"
      ],
      "metadata": {
        "colab": {
          "base_uri": "https://localhost:8080/"
        },
        "id": "7G_7FhjT61_1",
        "outputId": "8169fed1-9076-4044-e46a-08582e2e65a5"
      },
      "execution_count": null,
      "outputs": [
        {
          "output_type": "stream",
          "name": "stdout",
          "text": [
            "/***************************************************************************\n",
            " *                                  _   _ ____  _\n",
            " *  Project                     ___| | | |  _ \\| |\n",
            " *                             / __| | | | |_) | |\n",
            " *                            | (__| |_| |  _ <| |___\n",
            " *                             \\___|\\___/|_| \\_\\_____|\n",
            " *\n",
            " * Copyright (C) Daniel Stenberg, <daniel@haxx.se>, et al.\n",
            " *\n",
            " * This software is licensed as described in the file COPYING, which\n",
            " * you should have received as part of this distribution. The terms\n",
            " * are also available at https://curl.se/docs/copyright.html.\n",
            " *\n",
            " * You may opt to use, copy, modify, merge, publish, distribute and/or sell\n",
            " * copies of the Software, and permit persons to whom the Software is\n",
            " * furnished to do so, under the terms of the COPYING file.\n",
            " *\n",
            " * This software is distributed on an \"AS IS\" basis, WITHOUT WARRANTY OF ANY\n",
            " * KIND, either express or implied.\n",
            " *\n",
            " * SPDX-License-Identifier: curl\n",
            " *\n",
            " ***************************************************************************/\n",
            "/* <DESC>\n",
            " * Very simple HTTP POST\n",
            " * </DESC>\n",
            " */\n",
            "#include <stdio.h>\n",
            "#include <string.h>\n",
            "#include <curl/curl.h>\n",
            "\n",
            "int main(void)\n",
            "{\n",
            "  CURL *curl;\n",
            "  CURLcode res;\n",
            "\n",
            "  static const char *postthis = \"moo mooo moo moo\";\n",
            "\n",
            "  curl = curl_easy_init();\n",
            "  if(curl) {\n",
            "    curl_easy_setopt(curl, CURLOPT_URL, \"https://example.com\");\n",
            "    curl_easy_setopt(curl, CURLOPT_POSTFIELDS, postthis);\n",
            "\n",
            "    /* if we do not provide POSTFIELDSIZE, libcurl calls strlen() by itself */\n",
            "    curl_easy_setopt(curl, CURLOPT_POSTFIELDSIZE, (long)strlen(postthis));\n",
            "\n",
            "    /* Perform the request, res gets the return code */\n",
            "    res = curl_easy_perform(curl);\n",
            "    /* Check for errors */\n",
            "    if(res != CURLE_OK)\n",
            "      fprintf(stderr, \"curl_easy_perform() failed: %s\\n\",\n",
            "              curl_easy_strerror(res));\n",
            "\n",
            "    /* always cleanup */\n",
            "    curl_easy_cleanup(curl);\n",
            "  }\n",
            "  return 0;\n",
            "}\n"
          ]
        }
      ]
    },
    {
      "cell_type": "code",
      "source": [
        "!gcc -o simplepost simplepost.c -Wall -lcurl\n",
        "!./simplepost"
      ],
      "metadata": {
        "colab": {
          "base_uri": "https://localhost:8080/"
        },
        "id": "G9y5eYLqdaaJ",
        "outputId": "c4eda5fd-342a-4f08-e06a-ff781e600447"
      },
      "execution_count": null,
      "outputs": [
        {
          "output_type": "stream",
          "name": "stdout",
          "text": [
            "<!doctype html>\n",
            "<html>\n",
            "<head>\n",
            "    <title>Example Domain</title>\n",
            "\n",
            "    <meta charset=\"utf-8\" />\n",
            "    <meta http-equiv=\"Content-type\" content=\"text/html; charset=utf-8\" />\n",
            "    <meta name=\"viewport\" content=\"width=device-width, initial-scale=1\" />\n",
            "    <style type=\"text/css\">\n",
            "    body {\n",
            "        background-color: #f0f0f2;\n",
            "        margin: 0;\n",
            "        padding: 0;\n",
            "        font-family: -apple-system, system-ui, BlinkMacSystemFont, \"Segoe UI\", \"Open Sans\", \"Helvetica Neue\", Helvetica, Arial, sans-serif;\n",
            "        \n",
            "    }\n",
            "    div {\n",
            "        width: 600px;\n",
            "        margin: 5em auto;\n",
            "        padding: 2em;\n",
            "        background-color: #fdfdff;\n",
            "        border-radius: 0.5em;\n",
            "        box-shadow: 2px 3px 7px 2px rgba(0,0,0,0.02);\n",
            "    }\n",
            "    a:link, a:visited {\n",
            "        color: #38488f;\n",
            "        text-decoration: none;\n",
            "    }\n",
            "    @media (max-width: 700px) {\n",
            "        div {\n",
            "            margin: 0 auto;\n",
            "            width: auto;\n",
            "        }\n",
            "    }\n",
            "    </style>    \n",
            "</head>\n",
            "\n",
            "<body>\n",
            "<div>\n",
            "    <h1>Example Domain</h1>\n",
            "    <p>This domain is for use in illustrative examples in documents. You may use this\n",
            "    domain in literature without prior coordination or asking for permission.</p>\n",
            "    <p><a href=\"https://www.iana.org/domains/example\">More information...</a></p>\n",
            "</div>\n",
            "</body>\n",
            "</html>\n"
          ]
        }
      ]
    },
    {
      "cell_type": "markdown",
      "source": [
        "### JSON library\n",
        "https://github.com/DaveGamble/cJSON <br>\n",
        "https://www.geeksforgeeks.org/cjson-json-file-write-read-modify-in-c/"
      ],
      "metadata": {
        "id": "n6IjQAOJMjmd"
      }
    },
    {
      "cell_type": "code",
      "source": [
        "!git clone https://github.com/DaveGamble/cJSON.git"
      ],
      "metadata": {
        "id": "8EcTJUzgTiSP",
        "colab": {
          "base_uri": "https://localhost:8080/"
        },
        "outputId": "8d095caf-dbac-48ec-f82a-787966ea920e"
      },
      "execution_count": null,
      "outputs": [
        {
          "output_type": "stream",
          "name": "stdout",
          "text": [
            "Cloning into 'cJSON'...\n",
            "remote: Enumerating objects: 4579, done.\u001b[K\n",
            "remote: Counting objects: 100% (32/32), done.\u001b[K\n",
            "remote: Compressing objects: 100% (30/30), done.\u001b[K\n",
            "remote: Total 4579 (delta 12), reused 11 (delta 2), pack-reused 4547\u001b[K\n",
            "Receiving objects: 100% (4579/4579), 2.51 MiB | 23.99 MiB/s, done.\n",
            "Resolving deltas: 100% (3040/3040), done.\n"
          ]
        }
      ]
    },
    {
      "cell_type": "code",
      "source": [
        "%cd cJSON"
      ],
      "metadata": {
        "colab": {
          "base_uri": "https://localhost:8080/"
        },
        "id": "gLjXVCfa9lNi",
        "outputId": "6b9406ae-d6b8-409c-b866-5893ee2a268b"
      },
      "execution_count": null,
      "outputs": [
        {
          "output_type": "stream",
          "name": "stdout",
          "text": [
            "/content/cJSON\n"
          ]
        }
      ]
    },
    {
      "cell_type": "code",
      "source": [
        "!git submodule update --init --recursive"
      ],
      "metadata": {
        "id": "DbYDaC_a9wkV"
      },
      "execution_count": null,
      "outputs": []
    },
    {
      "cell_type": "code",
      "source": [
        "!cat -e -t -v Makefile"
      ],
      "metadata": {
        "colab": {
          "base_uri": "https://localhost:8080/"
        },
        "id": "uM8YefdQ93Ez",
        "outputId": "9c772fc4-202e-491c-f2b3-76ac2325f158"
      },
      "execution_count": null,
      "outputs": [
        {
          "output_type": "stream",
          "name": "stdout",
          "text": [
            "CJSON_OBJ = cJSON.o$\n",
            "UTILS_OBJ = cJSON_Utils.o$\n",
            "CJSON_LIBNAME = libcjson$\n",
            "UTILS_LIBNAME = libcjson_utils$\n",
            "CJSON_TEST = cJSON_test$\n",
            "$\n",
            "CJSON_TEST_SRC = cJSON.c test.c$\n",
            "$\n",
            "LDLIBS = -lm$\n",
            "$\n",
            "LIBVERSION = 1.7.17$\n",
            "CJSON_SOVERSION = 1$\n",
            "UTILS_SOVERSION = 1$\n",
            "$\n",
            "CJSON_SO_LDFLAG=-Wl,-soname=$(CJSON_LIBNAME).so.$(CJSON_SOVERSION)$\n",
            "UTILS_SO_LDFLAG=-Wl,-soname=$(UTILS_LIBNAME).so.$(UTILS_SOVERSION)$\n",
            "$\n",
            "PREFIX ?= /usr/local$\n",
            "INCLUDE_PATH ?= include/cjson$\n",
            "LIBRARY_PATH ?= lib$\n",
            "$\n",
            "INSTALL_INCLUDE_PATH = $(DESTDIR)$(PREFIX)/$(INCLUDE_PATH)$\n",
            "INSTALL_LIBRARY_PATH = $(DESTDIR)$(PREFIX)/$(LIBRARY_PATH)$\n",
            "$\n",
            "INSTALL ?= cp -a$\n",
            "$\n",
            "CC = gcc -std=c89$\n",
            "$\n",
            "# validate gcc version for use fstack-protector-strong$\n",
            "MIN_GCC_VERSION = \"4.9\"$\n",
            "GCC_VERSION := \"`$(CC) -dumpversion`\"$\n",
            "IS_GCC_ABOVE_MIN_VERSION := $(shell expr \"$(GCC_VERSION)\" \">=\" \"$(MIN_GCC_VERSION)\")$\n",
            "ifeq \"$(IS_GCC_ABOVE_MIN_VERSION)\" \"1\"$\n",
            "    CFLAGS += -fstack-protector-strong$\n",
            "else$\n",
            "    CFLAGS += -fstack-protector$\n",
            "endif$\n",
            "$\n",
            "PIC_FLAGS = -fPIC$\n",
            "R_CFLAGS = $(PIC_FLAGS) -pedantic -Wall -Werror -Wstrict-prototypes -Wwrite-strings -Wshadow -Winit-self -Wcast-align -Wformat=2 -Wmissing-prototypes -Wstrict-overflow=2 -Wcast-qual -Wc++-compat -Wundef -Wswitch-default -Wconversion $(CFLAGS)$\n",
            "$\n",
            "uname := $(shell sh -c 'uname -s 2>/dev/null || echo false')$\n",
            "$\n",
            "#library file extensions$\n",
            "SHARED = so$\n",
            "STATIC = a$\n",
            "$\n",
            "## create dynamic (shared) library on Darwin (base OS for MacOSX and IOS)$\n",
            "ifeq (Darwin, $(uname))$\n",
            "^ISHARED = dylib$\n",
            "^ICJSON_SO_LDFLAG = \"\"$\n",
            "^IUTILS_SO_LDFLAG = \"\"$\n",
            "endif$\n",
            "$\n",
            "#cJSON library names$\n",
            "CJSON_SHARED = $(CJSON_LIBNAME).$(SHARED)$\n",
            "CJSON_SHARED_VERSION = $(CJSON_LIBNAME).$(SHARED).$(LIBVERSION)$\n",
            "CJSON_SHARED_SO = $(CJSON_LIBNAME).$(SHARED).$(CJSON_SOVERSION)$\n",
            "CJSON_STATIC = $(CJSON_LIBNAME).$(STATIC)$\n",
            "$\n",
            "#cJSON_Utils library names$\n",
            "UTILS_SHARED = $(UTILS_LIBNAME).$(SHARED)$\n",
            "UTILS_SHARED_VERSION = $(UTILS_LIBNAME).$(SHARED).$(LIBVERSION)$\n",
            "UTILS_SHARED_SO = $(UTILS_LIBNAME).$(SHARED).$(UTILS_SOVERSION)$\n",
            "UTILS_STATIC = $(UTILS_LIBNAME).$(STATIC)$\n",
            "$\n",
            "SHARED_CMD = $(CC) -shared -o$\n",
            "$\n",
            ".PHONY: all shared static tests clean install$\n",
            "$\n",
            "all: shared static tests$\n",
            "$\n",
            "shared: $(CJSON_SHARED) $(UTILS_SHARED)$\n",
            "$\n",
            "static: $(CJSON_STATIC) $(UTILS_STATIC)$\n",
            "$\n",
            "tests: $(CJSON_TEST)$\n",
            "$\n",
            "test: tests$\n",
            "^I./$(CJSON_TEST)$\n",
            "$\n",
            ".c.o:$\n",
            "^I$(CC) -c $(R_CFLAGS) $<$\n",
            "$\n",
            "#tests$\n",
            "#cJSON$\n",
            "$(CJSON_TEST): $(CJSON_TEST_SRC) cJSON.h$\n",
            "^I$(CC) $(R_CFLAGS) $(CJSON_TEST_SRC)  -o $@ $(LDLIBS) -I.$\n",
            "$\n",
            "#static libraries$\n",
            "#cJSON$\n",
            "$(CJSON_STATIC): $(CJSON_OBJ)$\n",
            "^I$(AR) rcs $@ $<$\n",
            "#cJSON_Utils$\n",
            "$(UTILS_STATIC): $(UTILS_OBJ)$\n",
            "^I$(AR) rcs $@ $<$\n",
            "$\n",
            "#shared libraries .so.1.0.0$\n",
            "#cJSON$\n",
            "$(CJSON_SHARED_VERSION): $(CJSON_OBJ)$\n",
            "^I$(CC) -shared -o $@ $< $(CJSON_SO_LDFLAG) $(LDFLAGS)$\n",
            "#cJSON_Utils$\n",
            "$(UTILS_SHARED_VERSION): $(UTILS_OBJ)$\n",
            "^I$(CC) -shared -o $@ $< $(CJSON_OBJ) $(UTILS_SO_LDFLAG) $(LDFLAGS)$\n",
            "$\n",
            "#objects$\n",
            "#cJSON$\n",
            "$(CJSON_OBJ): cJSON.c cJSON.h$\n",
            "#cJSON_Utils$\n",
            "$(UTILS_OBJ): cJSON_Utils.c cJSON_Utils.h cJSON.h$\n",
            "$\n",
            "$\n",
            "#links .so -> .so.1 -> .so.1.0.0$\n",
            "#cJSON$\n",
            "$(CJSON_SHARED_SO): $(CJSON_SHARED_VERSION)$\n",
            "^Iln -s $(CJSON_SHARED_VERSION) $(CJSON_SHARED_SO)$\n",
            "$(CJSON_SHARED): $(CJSON_SHARED_SO)$\n",
            "^Iln -s $(CJSON_SHARED_SO) $(CJSON_SHARED)$\n",
            "#cJSON_Utils$\n",
            "$(UTILS_SHARED_SO): $(UTILS_SHARED_VERSION)$\n",
            "^Iln -s $(UTILS_SHARED_VERSION) $(UTILS_SHARED_SO)$\n",
            "$(UTILS_SHARED): $(UTILS_SHARED_SO)$\n",
            "^Iln -s $(UTILS_SHARED_SO) $(UTILS_SHARED)$\n",
            "$\n",
            "#install$\n",
            "#cJSON$\n",
            "install-cjson:$\n",
            "^Imkdir -p $(INSTALL_LIBRARY_PATH) $(INSTALL_INCLUDE_PATH)$\n",
            "^I$(INSTALL) cJSON.h $(INSTALL_INCLUDE_PATH)$\n",
            "^I$(INSTALL) $(CJSON_SHARED) $(CJSON_SHARED_SO) $(CJSON_SHARED_VERSION) $(INSTALL_LIBRARY_PATH)$\n",
            "#cJSON_Utils$\n",
            "install-utils: install-cjson$\n",
            "^I$(INSTALL) cJSON_Utils.h $(INSTALL_INCLUDE_PATH)$\n",
            "^I$(INSTALL) $(UTILS_SHARED) $(UTILS_SHARED_SO) $(UTILS_SHARED_VERSION) $(INSTALL_LIBRARY_PATH)$\n",
            "$\n",
            "install: install-cjson install-utils$\n",
            "$\n",
            "#uninstall$\n",
            "#cJSON$\n",
            "uninstall-cjson: uninstall-utils$\n",
            "^I$(RM) $(INSTALL_LIBRARY_PATH)/$(CJSON_SHARED)$\n",
            "^I$(RM) $(INSTALL_LIBRARY_PATH)/$(CJSON_SHARED_VERSION)$\n",
            "^I$(RM) $(INSTALL_LIBRARY_PATH)/$(CJSON_SHARED_SO)$\n",
            "^I$(RM) $(INSTALL_INCLUDE_PATH)/cJSON.h$\n",
            "^I$\n",
            "#cJSON_Utils$\n",
            "uninstall-utils:$\n",
            "^I$(RM) $(INSTALL_LIBRARY_PATH)/$(UTILS_SHARED)$\n",
            "^I$(RM) $(INSTALL_LIBRARY_PATH)/$(UTILS_SHARED_VERSION)$\n",
            "^I$(RM) $(INSTALL_LIBRARY_PATH)/$(UTILS_SHARED_SO)$\n",
            "^I$(RM) $(INSTALL_INCLUDE_PATH)/cJSON_Utils.h$\n",
            "$\n",
            "remove-dir:$\n",
            "^I$(if $(wildcard $(INSTALL_LIBRARY_PATH)/*.*),,rmdir $(INSTALL_LIBRARY_PATH))$\n",
            "^I$(if $(wildcard $(INSTALL_INCLUDE_PATH)/*.*),,rmdir $(INSTALL_INCLUDE_PATH))$\n",
            "$\n",
            "uninstall: uninstall-utils uninstall-cjson remove-dir$\n",
            "$\n",
            "clean:$\n",
            "^I$(RM) $(CJSON_OBJ) $(UTILS_OBJ) #delete object files$\n",
            "^I$(RM) $(CJSON_SHARED) $(CJSON_SHARED_VERSION) $(CJSON_SHARED_SO) $(CJSON_STATIC) #delete cJSON$\n",
            "^I$(RM) $(UTILS_SHARED) $(UTILS_SHARED_VERSION) $(UTILS_SHARED_SO) $(UTILS_STATIC) #delete cJSON_Utils$\n",
            "^I$(RM) $(CJSON_TEST)  #delete test$\n"
          ]
        }
      ]
    },
    {
      "cell_type": "code",
      "source": [
        "#Install libtool package\n",
        "#!apt-get install libtool\n",
        "#!autoreconf -i\n",
        "#!./configure\n",
        "!make"
      ],
      "metadata": {
        "colab": {
          "base_uri": "https://localhost:8080/"
        },
        "id": "msPxOwvv6ObX",
        "outputId": "a29e93ce-b280-4e34-e3c0-a51b0f0cb49f"
      },
      "execution_count": null,
      "outputs": [
        {
          "output_type": "stream",
          "name": "stdout",
          "text": [
            "gcc -std=c89 -c -fPIC -pedantic -Wall -Werror -Wstrict-prototypes -Wwrite-strings -Wshadow -Winit-self -Wcast-align -Wformat=2 -Wmissing-prototypes -Wstrict-overflow=2 -Wcast-qual -Wc++-compat -Wundef -Wswitch-default -Wconversion -fstack-protector cJSON.c\n",
            "gcc -std=c89 -shared -o libcjson.so.1.7.17 cJSON.o -Wl,-soname=libcjson.so.1 \n",
            "ln -s libcjson.so.1.7.17 libcjson.so.1\n",
            "ln -s libcjson.so.1 libcjson.so\n",
            "gcc -std=c89 -c -fPIC -pedantic -Wall -Werror -Wstrict-prototypes -Wwrite-strings -Wshadow -Winit-self -Wcast-align -Wformat=2 -Wmissing-prototypes -Wstrict-overflow=2 -Wcast-qual -Wc++-compat -Wundef -Wswitch-default -Wconversion -fstack-protector cJSON_Utils.c\n",
            "gcc -std=c89 -shared -o libcjson_utils.so.1.7.17 cJSON_Utils.o cJSON.o -Wl,-soname=libcjson_utils.so.1 \n",
            "ln -s libcjson_utils.so.1.7.17 libcjson_utils.so.1\n",
            "ln -s libcjson_utils.so.1 libcjson_utils.so\n",
            "ar rcs libcjson.a cJSON.o\n",
            "ar rcs libcjson_utils.a cJSON_Utils.o\n",
            "gcc -std=c89 -fPIC -pedantic -Wall -Werror -Wstrict-prototypes -Wwrite-strings -Wshadow -Winit-self -Wcast-align -Wformat=2 -Wmissing-prototypes -Wstrict-overflow=2 -Wcast-qual -Wc++-compat -Wundef -Wswitch-default -Wconversion -fstack-protector cJSON.c test.c  -o cJSON_test -lm -I.\n"
          ]
        }
      ]
    },
    {
      "cell_type": "code",
      "source": [
        "!sudo make install"
      ],
      "metadata": {
        "colab": {
          "base_uri": "https://localhost:8080/"
        },
        "id": "SuSinluY53-m",
        "outputId": "599791ea-85fd-4c48-e026-0ac1fa054af3"
      },
      "execution_count": null,
      "outputs": [
        {
          "output_type": "stream",
          "name": "stdout",
          "text": [
            "mkdir -p /usr/local/lib /usr/local/include/cjson\n",
            "cp -a cJSON.h /usr/local/include/cjson\n",
            "cp -a libcjson.so libcjson.so.1 libcjson.so.1.7.17 /usr/local/lib\n",
            "cp -a cJSON_Utils.h /usr/local/include/cjson\n",
            "cp -a libcjson_utils.so libcjson_utils.so.1 libcjson_utils.so.1.7.17 /usr/local/lib\n"
          ]
        }
      ]
    },
    {
      "cell_type": "code",
      "source": [
        "!ls -l /usr/local/lib/libcjson*"
      ],
      "metadata": {
        "colab": {
          "base_uri": "https://localhost:8080/"
        },
        "id": "564b6TAVJOjm",
        "outputId": "38d7e346-707c-4b66-f0db-936b86bdb50b"
      },
      "execution_count": null,
      "outputs": [
        {
          "output_type": "stream",
          "name": "stdout",
          "text": [
            "lrwxrwxrwx 1 root root    13 Apr 17 23:25 /usr/local/lib/libcjson.so -> libcjson.so.1\n",
            "lrwxrwxrwx 1 root root    18 Apr 17 23:25 /usr/local/lib/libcjson.so.1 -> libcjson.so.1.7.17\n",
            "-rwxr-xr-x 1 root root 50232 Apr 17 23:25 /usr/local/lib/libcjson.so.1.7.17\n",
            "lrwxrwxrwx 1 root root    19 Apr 17 23:25 /usr/local/lib/libcjson_utils.so -> libcjson_utils.so.1\n",
            "lrwxrwxrwx 1 root root    24 Apr 17 23:25 /usr/local/lib/libcjson_utils.so.1 -> libcjson_utils.so.1.7.17\n",
            "-rwxr-xr-x 1 root root 64560 Apr 17 23:25 /usr/local/lib/libcjson_utils.so.1.7.17\n"
          ]
        }
      ]
    },
    {
      "cell_type": "code",
      "source": [
        "#https://www.squash.io/how-to-set-ld_library_path-in-linux/\n",
        "#!echo $LD_LIBRARY_PATH\n",
        "!sudo ldconfig"
      ],
      "metadata": {
        "colab": {
          "base_uri": "https://localhost:8080/"
        },
        "id": "vgj8b_aBR07k",
        "outputId": "4d8bc0c6-0446-42d9-d63c-b7bc09569283"
      },
      "execution_count": null,
      "outputs": [
        {
          "output_type": "stream",
          "name": "stdout",
          "text": [
            "/sbin/ldconfig.real: /usr/local/lib/libtbbmalloc.so.2 is not a symbolic link\n",
            "\n",
            "/sbin/ldconfig.real: /usr/local/lib/libtbbbind_2_0.so.3 is not a symbolic link\n",
            "\n",
            "/sbin/ldconfig.real: /usr/local/lib/libtbbmalloc_proxy.so.2 is not a symbolic link\n",
            "\n",
            "/sbin/ldconfig.real: /usr/local/lib/libtbb.so.12 is not a symbolic link\n",
            "\n",
            "/sbin/ldconfig.real: /usr/local/lib/libtbbbind_2_5.so.3 is not a symbolic link\n",
            "\n",
            "/sbin/ldconfig.real: /usr/local/lib/libtbbbind.so.3 is not a symbolic link\n",
            "\n"
          ]
        }
      ]
    },
    {
      "cell_type": "code",
      "source": [
        "#!rm data.json"
      ],
      "metadata": {
        "id": "6EE9uS5IWAn1"
      },
      "execution_count": null,
      "outputs": []
    },
    {
      "cell_type": "code",
      "source": [
        "%%writefile createjson.c\n",
        "#include <stdio.h>\n",
        "#include <cjson/cJSON.h>\n",
        "\n",
        "int main() {\n",
        "// create a cJSON object\n",
        "cJSON *json = cJSON_CreateObject();\n",
        "cJSON_AddStringToObject(json, \"name\", \"John Doe\");\n",
        "cJSON_AddNumberToObject(json, \"age\", 30);\n",
        "cJSON_AddStringToObject(json, \"email\", \"john.doe@example.com\");\n",
        "\n",
        "// convert the cJSON object to a JSON string\n",
        "char *json_str = cJSON_Print(json);\n",
        "\n",
        "// write the JSON string to a file\n",
        "FILE *fp = fopen(\"data.json\", \"w\");\n",
        "if (fp == NULL) {\n",
        "\tprintf(\"Error: Unable to open the file.\\n\");\n",
        "\treturn 1;\n",
        "}\n",
        "printf(\"%s\\n\", json_str);\n",
        "fputs(json_str, fp);\n",
        "fclose(fp);\n",
        "// free the JSON string and cJSON object\n",
        "cJSON_free(json_str);\n",
        "cJSON_Delete(json);\n",
        "return 0;\n",
        "}"
      ],
      "metadata": {
        "colab": {
          "base_uri": "https://localhost:8080/"
        },
        "id": "cPun-5XW7FxZ",
        "outputId": "ece96a83-48e4-4fe2-cc40-1000f1a0dcdc"
      },
      "execution_count": null,
      "outputs": [
        {
          "output_type": "stream",
          "name": "stdout",
          "text": [
            "Writing createjson.c\n"
          ]
        }
      ]
    },
    {
      "cell_type": "code",
      "source": [
        "#!gcc -L/usr/local/lib -o createjson createjson.c -Wall -lcjson\n",
        "!gcc -o createjson createjson.c -Wall -lcjson\n",
        "!./createjson"
      ],
      "metadata": {
        "id": "aNF-ahg6ShO0",
        "colab": {
          "base_uri": "https://localhost:8080/"
        },
        "outputId": "62e665b8-0034-42cb-9eba-c56909e32143"
      },
      "execution_count": null,
      "outputs": [
        {
          "output_type": "stream",
          "name": "stdout",
          "text": [
            "{\n",
            "\t\"name\":\t\"John Doe\",\n",
            "\t\"age\":\t30,\n",
            "\t\"email\":\t\"john.doe@example.com\"\n",
            "}\n"
          ]
        }
      ]
    },
    {
      "cell_type": "code",
      "source": [
        "!cat data.json"
      ],
      "metadata": {
        "colab": {
          "base_uri": "https://localhost:8080/"
        },
        "id": "6NYtMbsdUO8m",
        "outputId": "9d6e8edf-87eb-429f-bc0e-d7461f278c65"
      },
      "execution_count": null,
      "outputs": [
        {
          "output_type": "stream",
          "name": "stdout",
          "text": [
            "{\n",
            "\t\"name\":\t\"John Doe\",\n",
            "\t\"age\":\t30,\n",
            "\t\"email\":\t\"john.doe@example.com\"\n",
            "}"
          ]
        }
      ]
    },
    {
      "cell_type": "code",
      "source": [
        "%%writefile readjson.c\n",
        "#include <stdio.h>\n",
        "#include <cjson/cJSON.h>\n",
        "\n",
        "int main() {\n",
        "\t// open the file\n",
        "\tFILE *fp = fopen(\"data.json\", \"r\");\n",
        "\tif (fp == NULL) {\n",
        "\t\tprintf(\"Error: Unable to open the file.\\n\");\n",
        "\t\treturn 1;\n",
        "\t}\n",
        "\n",
        "\t// read the file contents into a string\n",
        "\tchar buffer[1024];\n",
        "\t// int len = fread(buffer, 1, sizeof(buffer), fp);\n",
        "  fread(buffer, 1, sizeof(buffer), fp);\n",
        "\tfclose(fp);\n",
        "\n",
        "\t// parse the JSON data\n",
        "\tcJSON *json = cJSON_Parse(buffer);\n",
        "\tif (json == NULL) {\n",
        "\t\tconst char *error_ptr = cJSON_GetErrorPtr();\n",
        "\t\tif (error_ptr != NULL) {\n",
        "\t\t\tprintf(\"Error: %s\\n\", error_ptr);\n",
        "\t\t}\n",
        "\t\tcJSON_Delete(json);\n",
        "\t\treturn 1;\n",
        "\t}\n",
        "\n",
        "\t// access the JSON data\n",
        "\tcJSON *name = cJSON_GetObjectItemCaseSensitive(json, \"name\");\n",
        "\tif (cJSON_IsString(name) && (name->valuestring != NULL)) {\n",
        "\t\tprintf(\"Name: %s\\n\", name->valuestring);\n",
        "\t}\n",
        "\n",
        "\t// delete the JSON object\n",
        "\tcJSON_Delete(json);\n",
        "\treturn 0;\n",
        "}"
      ],
      "metadata": {
        "colab": {
          "base_uri": "https://localhost:8080/"
        },
        "id": "237M4VB1UGcD",
        "outputId": "2aff25b3-f58d-4d5f-aebe-9bba893b9920"
      },
      "execution_count": null,
      "outputs": [
        {
          "output_type": "stream",
          "name": "stdout",
          "text": [
            "Writing readjson.c\n"
          ]
        }
      ]
    },
    {
      "cell_type": "code",
      "source": [
        "!gcc -o readjson readjson.c -Wall -lcjson\n",
        "!./readjson"
      ],
      "metadata": {
        "colab": {
          "base_uri": "https://localhost:8080/"
        },
        "id": "zFFv8x0eUec1",
        "outputId": "32148da8-00db-4e0c-d7cf-f3ffc5f39a9a"
      },
      "execution_count": null,
      "outputs": [
        {
          "output_type": "stream",
          "name": "stdout",
          "text": [
            "Name: John Doe\n"
          ]
        }
      ]
    },
    {
      "cell_type": "code",
      "source": [
        "!cat data.json"
      ],
      "metadata": {
        "colab": {
          "base_uri": "https://localhost:8080/"
        },
        "id": "sLcp4sfwWQZn",
        "outputId": "8863653c-4ef5-4107-efdd-ea9924ee2e3b"
      },
      "execution_count": null,
      "outputs": [
        {
          "output_type": "stream",
          "name": "stdout",
          "text": [
            "{\n",
            "\t\"name\":\t\"John Doe\",\n",
            "\t\"age\":\t30,\n",
            "\t\"email\":\t\"john.doe@example.com\"\n",
            "}"
          ]
        }
      ]
    },
    {
      "cell_type": "code",
      "source": [
        "%%writefile modifyjson.c\n",
        "#include <stdio.h>\n",
        "#include <cjson/cJSON.h>\n",
        "\n",
        "int main() {\n",
        "\t// open the JSON file\n",
        "\tFILE *fp = fopen(\"data.json\", \"r\");\n",
        "\tif (fp == NULL) {\n",
        "\t\tprintf(\"Error: Unable to open the file.\\n\");\n",
        "\t\treturn 1;\n",
        "\t}\n",
        "\n",
        "\t// read the file contents into a string\n",
        "\tchar buffer[1024];\n",
        "\t// int len = fread(buffer, 1, sizeof(buffer), fp);\n",
        "  fread(buffer, 1, sizeof(buffer), fp);\n",
        "\tfclose(fp);\n",
        "\n",
        "\t// parse the JSON data\n",
        "\tcJSON *json = cJSON_Parse(buffer);\n",
        "\tif (json == NULL) {\n",
        "\t\tconst char *error_ptr = cJSON_GetErrorPtr();\n",
        "\t\tif (error_ptr != NULL) {\n",
        "\t\t\tprintf(\"Error: %s\\n\", error_ptr);\n",
        "\t\t}\n",
        "\t\tcJSON_Delete(json);\n",
        "\t\treturn 1;\n",
        "\t}\n",
        "\n",
        "\t// modify the JSON data\n",
        "\tcJSON_ReplaceItemInObjectCaseSensitive(json, \"name\", cJSON_CreateString(\"Jane Doe\"));\n",
        "\tcJSON_ReplaceItemInObjectCaseSensitive(json, \"age\", cJSON_CreateNumber(32));\n",
        "  cJSON_ReplaceItemInObjectCaseSensitive(json, \"email\", cJSON_CreateString(\"jane.doe@gmail.com\"));\n",
        "\tcJSON_AddStringToObject(json, \"phone\", \"555-555-5555\");\n",
        "\n",
        "\t// convert the cJSON object to a JSON string\n",
        "\tchar *json_str = cJSON_Print(json);\n",
        "\n",
        "\t// write the JSON string to the file\n",
        "\tfp = fopen(\"data.json\", \"w\");\n",
        "\tif (fp == NULL) {\n",
        "\t\tprintf(\"Error: Unable to open the file.\\n\");\n",
        "\t\treturn 1;\n",
        "\t}\n",
        "\tprintf(\"%s\\n\", json_str);\n",
        "\tfputs(json_str, fp);\n",
        "\tfclose(fp);\n",
        "\n",
        "\t// free the JSON string and cJSON object\n",
        "\tcJSON_free(json_str);\n",
        "\tcJSON_Delete(json);\n",
        "\n",
        "\treturn 0;\n",
        "}"
      ],
      "metadata": {
        "colab": {
          "base_uri": "https://localhost:8080/"
        },
        "id": "1XeSxIakVIek",
        "outputId": "cc31b7d5-c88f-4aab-976a-064f017195b4"
      },
      "execution_count": null,
      "outputs": [
        {
          "output_type": "stream",
          "name": "stdout",
          "text": [
            "Writing modifyjson.c\n"
          ]
        }
      ]
    },
    {
      "cell_type": "code",
      "source": [
        "!gcc -o modifyjson modifyjson.c -Wall -lcjson\n",
        "!./modifyjson"
      ],
      "metadata": {
        "colab": {
          "base_uri": "https://localhost:8080/"
        },
        "id": "YsKPfmWwVXQn",
        "outputId": "8d9af288-0a46-4660-e90e-0a3745edd5be"
      },
      "execution_count": null,
      "outputs": [
        {
          "output_type": "stream",
          "name": "stdout",
          "text": [
            "{\n",
            "\t\"name\":\t\"Jane Doe\",\n",
            "\t\"age\":\t32,\n",
            "\t\"email\":\t\"jane.doe@gmail.com\",\n",
            "\t\"phone\":\t\"555-555-5555\"\n",
            "}\n"
          ]
        }
      ]
    },
    {
      "cell_type": "code",
      "source": [
        "!cat data.json"
      ],
      "metadata": {
        "colab": {
          "base_uri": "https://localhost:8080/"
        },
        "id": "B_k8bo4QVzbL",
        "outputId": "96153b59-10df-41f3-89d5-87dff732d231"
      },
      "execution_count": null,
      "outputs": [
        {
          "output_type": "stream",
          "name": "stdout",
          "text": [
            "{\n",
            "\t\"name\":\t\"Jane Doe\",\n",
            "\t\"age\":\t32,\n",
            "\t\"email\":\t\"jane.doe@gmail.com\",\n",
            "\t\"phone\":\t\"555-555-5555\"\n",
            "}"
          ]
        }
      ]
    }
  ]
}